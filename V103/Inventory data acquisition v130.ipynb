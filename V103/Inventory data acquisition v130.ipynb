{
 "cells": [
  {
   "cell_type": "code",
   "execution_count": 17,
   "metadata": {},
   "outputs": [],
   "source": [
    "import requests\n",
    "import json\n",
    "import base64\n",
    "from addresses import DC01_address, DC02_address, DC11_address, DC12_address"
   ]
  },
  {
   "cell_type": "code",
   "execution_count": 18,
   "metadata": {},
   "outputs": [
    {
     "data": {
      "text/plain": [
       "'c3V6dWtpOjAwMDA='"
      ]
     },
     "execution_count": 18,
     "metadata": {},
     "output_type": "execute_result"
    }
   ],
   "source": [
    "X_Zsc_Authorization = 'suzuki:0000'\n",
    "X_Zsc_Authorization = bytearray(X_Zsc_Authorization, 'utf-8')\n",
    "X_Zsc_Authorization = base64.b64encode(X_Zsc_Authorization)\n",
    "X_Zsc_Authorization = X_Zsc_Authorization.decode(\"UTF-8\")\n",
    "X_Zsc_Authorization"
   ]
  },
  {
   "cell_type": "code",
   "execution_count": 19,
   "metadata": {},
   "outputs": [],
   "source": [
    "url = 'https://zaikos.azure-api.net/zsc/beautygarage/login'"
   ]
  },
  {
   "cell_type": "code",
   "execution_count": 20,
   "metadata": {},
   "outputs": [],
   "source": [
    "header_login = { 'Ocp-Apim-Subscription-Key' : '253ae2b9815f44f8952a42e781ca362a','Cache-Control' : 'no-cache','X-Zsc-Authorization' : 'MjAzMjoyMDMy' }"
   ]
  },
  {
   "cell_type": "code",
   "execution_count": 21,
   "metadata": {},
   "outputs": [],
   "source": [
    "r = requests.post(url , headers= header_login)"
   ]
  },
  {
   "cell_type": "code",
   "execution_count": 22,
   "metadata": {
    "scrolled": true
   },
   "outputs": [],
   "source": [
    "r.encoding = 'utf-8-sig'"
   ]
  },
  {
   "cell_type": "code",
   "execution_count": 23,
   "metadata": {},
   "outputs": [
    {
     "data": {
      "text/plain": [
       "{'token': '749731b6-1215-4a39-b3ae-e6609b0f5be4'}"
      ]
     },
     "execution_count": 23,
     "metadata": {},
     "output_type": "execute_result"
    }
   ],
   "source": [
    "jToken = json.loads(r.text)\n",
    "jToken"
   ]
  },
  {
   "cell_type": "code",
   "execution_count": 24,
   "metadata": {},
   "outputs": [],
   "source": [
    "url_inv = \"https://zaikos.azure-api.net/zsc/beautygarage/stocks_summary\""
   ]
  },
  {
   "cell_type": "code",
   "execution_count": 25,
   "metadata": {},
   "outputs": [
    {
     "data": {
      "text/plain": [
       "{'Ocp-Apim-Subscription-Key': '253ae2b9815f44f8952a42e781ca362a',\n",
       " 'X-Zsc-Token': '749731b6-1215-4a39-b3ae-e6609b0f5be4'}"
      ]
     },
     "execution_count": 25,
     "metadata": {},
     "output_type": "execute_result"
    }
   ],
   "source": [
    "SubKey_Token = { \"Ocp-Apim-Subscription-Key\" : \"253ae2b9815f44f8952a42e781ca362a\", \"X-Zsc-Token\" : jToken['token'] }\n",
    "SubKey_Token"
   ]
  },
  {
   "cell_type": "code",
   "execution_count": 26,
   "metadata": {},
   "outputs": [],
   "source": [
    "query = {'warehouseCode': '01' , 'keycode' : ''}\n",
    "r_inv = requests.get(url_inv , headers=SubKey_Token , params=query)\n",
    "f = open(DC01_address, \"w\")\n",
    "f.write(r_inv.text.lstrip('\\ufeff'))\n",
    "f.close()"
   ]
  },
  {
   "cell_type": "code",
   "execution_count": 27,
   "metadata": {},
   "outputs": [],
   "source": [
    "query = {'warehouseCode': '02' , 'keycode' : ''}\n",
    "r_inv = requests.get(url_inv , headers=SubKey_Token , params=query)\n",
    "f = open(DC02_address, \"w\")\n",
    "f.write(r_inv.text.lstrip('\\ufeff'))\n",
    "f.close()"
   ]
  },
  {
   "cell_type": "code",
   "execution_count": 28,
   "metadata": {},
   "outputs": [],
   "source": [
    "query = {'warehouseCode': '11' , 'keycode' : ''}\n",
    "r_inv = requests.get(url_inv , headers=SubKey_Token , params=query)\n",
    "f = open(DC11_address, \"w\")\n",
    "f.write(r_inv.text.lstrip('\\ufeff'))\n",
    "f.close()"
   ]
  },
  {
   "cell_type": "code",
   "execution_count": 29,
   "metadata": {},
   "outputs": [],
   "source": [
    "query = {'warehouseCode': '12' , 'keycode' : ''}\n",
    "r_inv = requests.get(url_inv , headers=SubKey_Token , params=query)\n",
    "f = open(DC12_address, \"w\")\n",
    "f.write(r_inv.text.lstrip('\\ufeff'))\n",
    "f.close()"
   ]
  },
  {
   "cell_type": "code",
   "execution_count": 30,
   "metadata": {},
   "outputs": [],
   "source": [
    "url_out = 'https://zaikos.azure-api.net/zsc/beautygarage/logout'"
   ]
  },
  {
   "cell_type": "code",
   "execution_count": 31,
   "metadata": {},
   "outputs": [],
   "source": [
    "r = requests.post(url_out , headers=SubKey_Token)"
   ]
  },
  {
   "cell_type": "code",
   "execution_count": 32,
   "metadata": {},
   "outputs": [
    {
     "data": {
      "text/plain": [
       "'\\ufeff{\"message\":\"Success\"}'"
      ]
     },
     "execution_count": 32,
     "metadata": {},
     "output_type": "execute_result"
    }
   ],
   "source": [
    "r.text"
   ]
  }
 ],
 "metadata": {
  "kernelspec": {
   "display_name": "Python 3",
   "language": "python",
   "name": "python3"
  },
  "language_info": {
   "codemirror_mode": {
    "name": "ipython",
    "version": 3
   },
   "file_extension": ".py",
   "mimetype": "text/x-python",
   "name": "python",
   "nbconvert_exporter": "python",
   "pygments_lexer": "ipython3",
   "version": "3.7.3"
  }
 },
 "nbformat": 4,
 "nbformat_minor": 4
}
